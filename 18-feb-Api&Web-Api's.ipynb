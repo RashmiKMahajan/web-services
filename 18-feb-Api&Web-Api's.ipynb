{
 "cells": [
  {
   "cell_type": "markdown",
   "id": "0285cb77-bf05-4f69-8e44-0a698a4bc395",
   "metadata": {},
   "source": [
    "Name : Rashmi Mahajan\n",
    "Batch : Data science Masters \n",
    "Topic : API & Web-API's\n",
    "Date : 18/2/2023"
   ]
  },
  {
   "cell_type": "markdown",
   "id": "4ba7bea1-9390-4219-9fca-e09939458354",
   "metadata": {},
   "source": [
    "Q1. What is an API? Give an example, where an API is used in real life."
   ]
  },
  {
   "cell_type": "markdown",
   "id": "eee168a3-bb49-49ca-ae14-efd34421d56a",
   "metadata": {},
   "source": [
    "API stands for application programming interface\n",
    "It is a set of definitions and protocols for building and integrating application software\n",
    "\n",
    "at its most basic level, allows your product or service to talk to other products or services. In this way, an API allows you to open up data and functionality to other developers and to other businesses.\n",
    "\n",
    "APIs are needed to bring applications together in order to perform a designed function built around sharing data and executing pre-defined processes.\n",
    "They work as the middle man, allowing developers to build new programmatic interactions between the various applications people and businesses use on a daily basis."
   ]
  },
  {
   "cell_type": "markdown",
   "id": "9cf4ed9b-2e96-4064-ad4a-a574fc3bee64",
   "metadata": {},
   "source": [
    "7 Examples of APIs in Use Today\n",
    "Twitter Bots.\n",
    "Log-In Using XYZ.\n",
    "Weather Snippers.\n",
    "Pay with PayPal.\n",
    "Google Maps.\n",
    "Travel Booking.\n",
    "E-Commerce."
   ]
  },
  {
   "cell_type": "markdown",
   "id": "bbc56d33-3b49-4608-bc28-c697f6166c85",
   "metadata": {},
   "source": [
    "Web applications use APIs to connect user-facing front ends with all-important back end functionality and data. Streaming services like Spotify and Netflix use APIs to distribute content. Automotive companies like Tesla send software updates via APIs. Others use APIs to unlock car data for third-parties."
   ]
  },
  {
   "cell_type": "code",
   "execution_count": null,
   "id": "41785baa-dbb6-4a44-8460-ecaabedc56dc",
   "metadata": {},
   "outputs": [],
   "source": []
  },
  {
   "cell_type": "markdown",
   "id": "e10ec6fd-6207-47e1-becb-23fcb1ba7cb5",
   "metadata": {},
   "source": [
    "Q2. Give advantages and disadvantages of using API. "
   ]
  },
  {
   "cell_type": "markdown",
   "id": "bcfc7815-bdb6-4054-8fd6-df8606c3ccec",
   "metadata": {},
   "source": [
    "Advatages of Using API:-\n",
    "\n",
    "Efficiency: \n",
    "When you have content that is automatically published and made available on different channels simultaneously, APIs allow for more efficient data distribution.\n",
    "\n",
    "Adaptability:\n",
    "One of the greatest benefits of APIs is the ability it has to adapt to changes through data migration and flexibility of services."
   ]
  },
  {
   "cell_type": "markdown",
   "id": "f4ab89b5-0a4a-4a08-9851-9a040523004e",
   "metadata": {},
   "source": [
    "Disadvantage :-\n",
    "As a single point of entry, an API is a gateway and can become a hacker's primary target. Once the API is compromised, all other applications and systems become vulnerable."
   ]
  },
  {
   "cell_type": "code",
   "execution_count": null,
   "id": "5c584100-17b5-4f10-969e-da75ba654170",
   "metadata": {},
   "outputs": [],
   "source": []
  },
  {
   "cell_type": "markdown",
   "id": "66ab5e13-b0c3-4705-8662-c3d764be1ec7",
   "metadata": {},
   "source": [
    "Q3. What is a Web API? Differentiate between API and Web API.\n",
    "\n"
   ]
  },
  {
   "cell_type": "markdown",
   "id": "54caefb1-7be9-40df-8f84-b23c325986ec",
   "metadata": {},
   "source": [
    "API stands for Application Programming Interface. API is actually some kind of interface which is having a set of functions. These set of functions will allow programmers to acquire some specific features or the data of an application. \n",
    "\n",
    "Web API is an API as the name suggests, it can be accessed over the web using the HTTP protocol. It is a framework that helps you to create and develop HTTP based RESTFUL services. The web API can be developed by using different technologies such as java, ASP.NET, etc. Web API is used in either a web server or a web browser. Basically Web API is a web development concept. It is limited to Web Application’s client-side and also it does not include a web server or web browser details. If an application is to be used on a distributed system and to provide services on different devices like laptops, mobiles, etc then web API services are used. Web API is the enhanced form of the web application."
   ]
  },
  {
   "cell_type": "code",
   "execution_count": null,
   "id": "a0bdb28f-b855-4b66-82f6-a4a0bc225ff8",
   "metadata": {},
   "outputs": [],
   "source": []
  },
  {
   "cell_type": "markdown",
   "id": "83941565-fce3-4388-aaff-b4e386cba4bb",
   "metadata": {},
   "source": [
    "Q4. Explain REST and SOAP Architecture. Mention shortcomings of SOAP.\n",
    "\n"
   ]
  },
  {
   "cell_type": "markdown",
   "id": "6556cb0c-33c0-4431-a691-f6e2e15ad65e",
   "metadata": {},
   "source": [
    "RESTful Web Services\n",
    "REST stands for REpresentational State Transfer.\n",
    "\n",
    "REST is an architectural style not a protocol.\n",
    "\n",
    "Advantages of RESTful Web Services\n",
    "Fast: \n",
    "RESTful Web Services are fast because there is no strict specification like SOAP. It consumes less bandwidth and resource.\n",
    "\n",
    "Language and Platform independent: \n",
    "RESTful web services can be written in any programming language and executed in any platform.\n",
    "\n"
   ]
  },
  {
   "cell_type": "markdown",
   "id": "5d32da56-29fe-4ada-a3f5-916bc8d962f2",
   "metadata": {},
   "source": [
    "SOAP Web Services\n",
    "SOAP stands for Simple Object Access Protocol.\n",
    "It is a XML-based protocol for accessing web services.\n",
    "It is platform independent and language independent.\n",
    "By using SOAP, you will be able to interact with other programming language applications.\n",
    "\n",
    "Advantages of Soap Web Services:-\n",
    "\n",
    "WS Security: SOAP defines its own security known as WS Security.\n",
    "\n",
    "Language and Platform independent: \n",
    "SOAP web services can be written in any programming language and executed in any platform.\n",
    "\n",
    "Disadvantages of Soap Web Services:-\n",
    "\n",
    "Slow: SOAP uses XML format that must be parsed to be read. It defines many standards that must be followed while developing the SOAP applications. So it is slow and consumes more bandwidth and resource.\n",
    "\n",
    "WSDL dependent: SOAP uses WSDL and doesn't have any other mechanism to discover the service.\n"
   ]
  },
  {
   "cell_type": "code",
   "execution_count": null,
   "id": "813893e4-57a5-40a8-a999-8559b2da95a3",
   "metadata": {},
   "outputs": [],
   "source": []
  },
  {
   "cell_type": "markdown",
   "id": "87f50f77-0749-4105-b0b3-17963f003561",
   "metadata": {},
   "source": [
    "Q5. Differentiate between REST and SOAP."
   ]
  },
  {
   "cell_type": "markdown",
   "id": "efd0d5e7-0c6e-4ae7-98d8-534d6a77c63f",
   "metadata": {},
   "source": [
    "1)\tSOAP is a protocol.\tREST is an architectural style.\n",
    "2)\tSOAP stands for Simple Object Access Protocol.\tREST stands for REpresentational State Transfer.\n",
    "3)\tSOAP can't use REST because it is a protocol.\tREST can use SOAP web services because it is a concept and can use any protocol like HTTP, SOAP.\n",
    "4)\tSOAP uses services interfaces to expose the business logic.\tREST uses URI to expose business logic.\n",
    "5)\tJAX-WS is the java API for SOAP web services.\tJAX-RS is the java API for RESTful web services.\n",
    "6)\tSOAP defines standards to be strictly followed.\tREST does not define too much standards like SOAP.\n",
    "7)\tSOAP requires more bandwidth and resource than REST.\tREST requires less bandwidth and resource than SOAP.\n",
    "8)\tSOAP defines its own security.\tRESTful web services inherits security measures from the underlying transport.\n",
    "9)\tSOAP permits XML data format only.\tREST permits different data format such as Plain text, HTML, XML, JSON etc.\n",
    "10)\tSOAP is less preferred than REST.\tREST more preferred than SOAP."
   ]
  }
 ],
 "metadata": {
  "kernelspec": {
   "display_name": "Python 3 (ipykernel)",
   "language": "python",
   "name": "python3"
  },
  "language_info": {
   "codemirror_mode": {
    "name": "ipython",
    "version": 3
   },
   "file_extension": ".py",
   "mimetype": "text/x-python",
   "name": "python",
   "nbconvert_exporter": "python",
   "pygments_lexer": "ipython3",
   "version": "3.10.8"
  }
 },
 "nbformat": 4,
 "nbformat_minor": 5
}
